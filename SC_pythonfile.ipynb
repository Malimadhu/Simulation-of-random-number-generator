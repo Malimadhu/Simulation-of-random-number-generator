{
 "cells": [
  {
   "cell_type": "markdown",
   "metadata": {},
   "source": [
    "\n"
   ]
  },
  {
   "cell_type": "code",
   "execution_count": null,
   "metadata": {},
   "outputs": [],
   "source": []
  },
  {
   "cell_type": "markdown",
   "metadata": {},
   "source": [
    "# Frequency test\n",
    "1. KS test\n",
    "2. Chi-square test"
   ]
  },
  {
   "cell_type": "code",
   "execution_count": 30,
   "metadata": {},
   "outputs": [],
   "source": [
    "## K S Test\n",
    "#H0(Null Hypothesis): Null hypothesis assumes that the numbers are uniformly distributed between 0-1.\n",
    "#If we are able to reject the Null Hypothesis, this means that the numbers are not uniformly distributed between 0-1.\n",
    "#Failure to reject the Null Hypothesis although does not necessarily mean that the numbers follow the uniform distribution."
   ]
  },
  {
   "cell_type": "code",
   "execution_count": 31,
   "metadata": {},
   "outputs": [],
   "source": [
    "\n",
    "def ks_test(data):\n",
    "    from scipy import stats\n",
    "    test_results=[]\n",
    "    master_list=data\n",
    "    alpha=0.05\n",
    "    for i in range(500):\n",
    "        if stats.kstest(master_list[i],stats.uniform.cdf)[1]>alpha:\n",
    "            test_results.append('failed to reject null')\n",
    "\n",
    "        else:\n",
    "            test_results.append('reject null')\n",
    "    \n",
    "    print(str(test_results.count('failed to reject null'))+' sequence failed to reject Null Hypothesis')\n",
    "    "
   ]
  },
  {
   "cell_type": "code",
   "execution_count": 32,
   "metadata": {},
   "outputs": [],
   "source": [
    "## Chi Square Test\n",
    "#Null hypothesis:\n",
    "#Null hypothesis (H0) which states that there is no relation between the variables.\n",
    "#An alternate hypothesis would state that there is a significant relation between the two\n",
    "\n"
   ]
  },
  {
   "cell_type": "code",
   "execution_count": 33,
   "metadata": {},
   "outputs": [],
   "source": [
    "def chisq_test(data):\n",
    "    #Chi-Square Test\n",
    "    # Divide Numbers into 10 Classes and Each expected classes should have 100 Random Numbers So The Uniformity is Checked\n",
    "    #Observed Random Numbers\n",
    "    #def chi_square(master_list)\n",
    "    Master_obs1=[]\n",
    "    temp_obs1=[]\n",
    "    x=0\n",
    "    for i in range(500):\n",
    "        for z in range(10):\n",
    "            for j in range(1000):\n",
    "                if(0.1*z < data[i][j] <= 0.1*(z+1)):\n",
    "                    x=x+1\n",
    "            temp_obs1.append(x)\n",
    "            x=0\n",
    "        Master_obs1.append(temp_obs1)\n",
    "        temp_obs1=[]\n",
    "    #Observed Random Numbers\n",
    "    Master_exp1=[]\n",
    "    temp_exp1=[]\n",
    "    for x in range(500):\n",
    "        for y in range(10):\n",
    "            temp_exp1.append(100)\n",
    "        Master_exp1.append(temp_exp1)\n",
    "        temp_exp1=[]\n",
    "\n",
    "    chi1=0\n",
    "    y1=0\n",
    "    x1=16.918\n",
    "    for x in range(500):\n",
    "        for y in range(10):\n",
    "            temp_chi1=(((Master_obs1[x][y]-Master_exp1[x][y])**2)/Master_exp1[x][y])\n",
    "            chi1=chi1+temp_chi1\n",
    "        if(chi1<=x1):\n",
    "            y1=y1+1\n",
    "        chi1=0\n",
    "    #The Following Number of Sequence Passes Chi Square Test\n",
    "    print(y1,\" Number of Sequence Passes Chi Square Test\")\n",
    "\n"
   ]
  },
  {
   "cell_type": "markdown",
   "metadata": {},
   "source": [
    "# Serial Correlation Tests / Autocorrelation tests\n",
    "1) Durbin- Watson test \\\n",
    "2) Ljung-Box test"
   ]
  },
  {
   "cell_type": "code",
   "execution_count": 37,
   "metadata": {},
   "outputs": [],
   "source": [
    "## Durbin Watson Test\n",
    "\n",
    "#H0 (null hypothesis): There is no correlation among the residuals.\n",
    "\n",
    "#HA (alternative hypothesis): The residuals are autocorrelated.\n",
    "\n",
    "#The test statistic is approximately equal to 2*(1-r) where r is the sample autocorrelation of the residuals. Thus, the test statistic will always be between 0 and 4 with the following interpretation:\n",
    "\n",
    "#A test statistic of 2 indicates no serial correlation.\n",
    "#The closer the test statistics is to 0, the more evidence of positive serial correlation.\n",
    "#The closer the test statistics is to 4, the more evidence of negative serial correlation.''''''"
   ]
  },
  {
   "cell_type": "code",
   "execution_count": 38,
   "metadata": {},
   "outputs": [],
   "source": [
    "def durbin_test(data): \n",
    "    import numpy as np\n",
    "    from statsmodels.stats.stattools import durbin_watson\n",
    "    durbin_list=[]\n",
    "    master_list=np.array(data)\n",
    "    for i in range(500):\n",
    "        r=durbin_watson(master_list[i])\n",
    "        statistic= 2*(1 - r)  #test statistic\n",
    "        \n",
    "        if statistic <1 or statistic >3:\n",
    "            durbin_list.append('correlation exists')\n",
    "        \n",
    "        else:\n",
    "            durbin_list.append('no correlation')\n",
    "    \n",
    "    print(durbin_list.count('no correlation'), 'Sequences do not exibit serial correlation hence they are random in nature')"
   ]
  },
  {
   "cell_type": "code",
   "execution_count": 40,
   "metadata": {},
   "outputs": [],
   "source": [
    "## Ljung-Box Test\n",
    "#The Ljung-Box test is a statistical test that checks if autocorrelation exists in a time series.\n",
    "\n",
    "#It uses the following hypotheses:\n",
    "\n",
    "#H0: The residuals are independently distributed.\n",
    "\n",
    "#HA: The residuals are not independently distributed; they exhibit serial correlation."
   ]
  },
  {
   "cell_type": "code",
   "execution_count": 41,
   "metadata": {},
   "outputs": [],
   "source": [
    "def ljung_test(data):\n",
    "    master_list=data\n",
    "    ljung_list=[]\n",
    "    from statsmodels.stats.diagnostic import acorr_ljungbox\n",
    "\n",
    "    for i in range(500):\n",
    "        \n",
    "        if acorr_ljungbox(master_list[i],lags=[2], return_df=True).values[0][1]< 0.05:\n",
    "            ljung_list.append('Reject Null hypothesis')\n",
    "\n",
    "        else:\n",
    "            ljung_list.append('failed to reject null hypothesis')\n",
    "\n",
    "    print(ljung_list.count('failed to reject null hypothesis'), 'Sequences do not exibit serial correaltion')"
   ]
  },
  {
   "cell_type": "markdown",
   "metadata": {},
   "source": [
    "# Pseudo Random Number Genterator"
   ]
  },
  {
   "cell_type": "code",
   "execution_count": 42,
   "metadata": {},
   "outputs": [],
   "source": [
    "## 1) Linear Congruential Generator"
   ]
  },
  {
   "cell_type": "code",
   "execution_count": 43,
   "metadata": {},
   "outputs": [
    {
     "ename": "SyntaxError",
     "evalue": "EOL while scanning string literal (2580893501.py, line 35)",
     "output_type": "error",
     "traceback": [
      "\u001b[1;36m  Input \u001b[1;32mIn [43]\u001b[1;36m\u001b[0m\n\u001b[1;33m    print(durbin_test(lcg_master_list)/500\")\u001b[0m\n\u001b[1;37m                                            ^\u001b[0m\n\u001b[1;31mSyntaxError\u001b[0m\u001b[1;31m:\u001b[0m EOL while scanning string literal\n"
     ]
    }
   ],
   "source": [
    "##BASIC DATA\n",
    "lcg_master_list = []\n",
    "a=21401\n",
    "c=253101\n",
    "seed=4367\n",
    "m=(2**32)\n",
    "\n",
    "\n",
    "##GENERATING SERIES OF 1000 RANDOM NUMBERS IN 500 SEQUENCE BY LCG\n",
    "for i in range(500):\n",
    "    global seed\n",
    "    temp_list = []\n",
    "    for k in range(1000):\n",
    "        seed = (a * seed + c) % m\n",
    "        temp_list.append(seed / m)\n",
    "    lcg_master_list.append(temp_list)\n",
    "    \n",
    "##Checks\n",
    "print('Sequence Length: ', len(lcg_master_list))\n",
    "    \n",
    "## tests\n",
    "print('KS Test:')\n",
    "ks_test(lcg_master_list)\n",
    "print('proportion of sequence failed to reject')\n",
    "print(\"ks_test(lcg_master_list)/500\")\n",
    "\n",
    "print('\\nChi-Square Test')\n",
    "chisq_test(lcg_master_list)\n",
    "print('proportion of sequence failed to reject')\n",
    "print(\"chisq_test(lcg_master_list)/500\")\n",
    "\n",
    "print('\\nDurbin-Watson Test')\n",
    "durbin_test(lcg_master_list)\n",
    "print('proportion of sequence failed to reject')\n",
    "print(durbin_test(lcg_master_list)/500\")\n",
    "\n",
    "print('\\nLjung-Box Test')\n",
    "ljung_test(lcg_master_list)\n",
    "print('proportion of sequence failed to reject')\n",
    "print(\"ljung_test(lcg_master_list)/500\")\n"
   ]
  },
  {
   "cell_type": "code",
   "execution_count": 44,
   "metadata": {},
   "outputs": [],
   "source": [
    "## 2) Lehmer Random Number Generator\n",
    "#Other names are multiplicative linear congruential generator (MLCG) and multiplicative congruential generator (MCG).\n",
    "\n"
   ]
  },
  {
   "cell_type": "code",
   "execution_count": 45,
   "metadata": {},
   "outputs": [
    {
     "name": "stdout",
     "output_type": "stream",
     "text": [
      "Sequence Length:  500\n",
      "\n",
      "KS Test:\n",
      "475 sequence failed to reject Null Hypothesis\n",
      "proportion of sequence failed to reject\n",
      "ks_test(lrng_master_list)/500\n",
      "\n",
      "Chi-Square Test\n",
      "476  Number of Sequence Passes Chi Square Test\n",
      "proportion of sequence failed to reject\n",
      "chisq_test(lrng_master_list)/500\n",
      "\n",
      "Durbin-Watson Test\n",
      "308 Sequences do not exibit serial correlation hence they are random in nature\n",
      "proportion of sequence failed to reject\n",
      "durbin_test(lrng_master_list)/500\n",
      "\n",
      "Ljung-Box Test\n",
      "471 Sequences do not exibit serial correaltion\n",
      "proportion of sequence failed to reject\n",
      "ljung_test(lrng_master_list)/500\n"
     ]
    }
   ],
   "source": [
    "##BASIC DATA\n",
    "lrng_master_list = []\n",
    "a=75 #a primitive root modulo  \n",
    "c=0 \n",
    "seed=43\n",
    "m=(2**16)+1 #a Fermat prime \n",
    "\n",
    "\n",
    "##GENERATING SERIES OF 1000 RANDOM NUMBERS IN 500 SEQUENCE BY LCG\n",
    "for i in range(500):\n",
    "    global seed\n",
    "    temp_list = []\n",
    "    for k in range(1000):\n",
    "        seed = (a * seed) % m\n",
    "        temp_list.append(seed / m)\n",
    "    lrng_master_list.append(temp_list)\n",
    "    \n",
    "##Checks\n",
    "print('Sequence Length: ', len(lrng_master_list))\n",
    "## tests\n",
    "print('\\nKS Test:')\n",
    "ks_test(lrng_master_list)\n",
    "print('proportion of sequence failed to reject')\n",
    "print(\"ks_test(lrng_master_list)/500\")\n",
    "\n",
    "print('\\nChi-Square Test')\n",
    "chisq_test(lrng_master_list)\n",
    "print('proportion of sequence failed to reject')\n",
    "print(\"chisq_test(lrng_master_list)/500\")\n",
    "\n",
    "\n",
    "print('\\nDurbin-Watson Test')\n",
    "durbin_test(lrng_master_list)\n",
    "print('proportion of sequence failed to reject')\n",
    "print(\"durbin_test(lrng_master_list)/500\")\n",
    "\n",
    "\n",
    "print('\\nLjung-Box Test')\n",
    "ljung_test(lrng_master_list)\n",
    "print('proportion of sequence failed to reject')\n",
    "print(\"ljung_test(lrng_master_list)/500\")\n"
   ]
  },
  {
   "cell_type": "code",
   "execution_count": 46,
   "metadata": {},
   "outputs": [],
   "source": [
    "## Combined Linear Congruential Generator"
   ]
  },
  {
   "cell_type": "code",
   "execution_count": 47,
   "metadata": {},
   "outputs": [
    {
     "name": "stdout",
     "output_type": "stream",
     "text": [
      "Sequence Length:  500\n",
      "\n",
      "KS Test:\n",
      "477 sequence failed to reject Null Hypothesis\n",
      "proportion of sequence failed to reject\n",
      "ks_test(combined_master_list)/500\n",
      "\n",
      "Chi-Square Test\n",
      "470  Number of Sequence Passes Chi Square Test\n",
      "proportion of sequence failed to reject\n",
      "chisq_test(combined_master_list)/500\n",
      "\n",
      "Durbin-Watson Test\n",
      "260 Sequences do not exibit serial correlation hence they are random in nature\n",
      "proportion of sequence failed to reject\n",
      "durbin_test(combined_master_list)/500\n",
      "\n",
      "Ljung-Box Test\n",
      "476 Sequences do not exibit serial correaltion\n",
      "proportion of sequence failed to reject\n",
      "ljung_test(combined_master_list)/500\n"
     ]
    }
   ],
   "source": [
    "##BASIC DATA\n",
    "combined_master_list = []\n",
    "#For 1st LCG\n",
    "m1=2147483563\n",
    "a1=40014\n",
    "c1=0\n",
    "seed1=9011\n",
    "\n",
    "#For 2nd LCG\n",
    "m2=2147483399\n",
    "a2=40692\n",
    "c2=0\n",
    "seed2=6347\n",
    "\n",
    "##Combined\n",
    "seed3=0\n",
    "for i in range(500):\n",
    "        temp_list = []\n",
    "        for k in range(1000):\n",
    "            seed1 = (a1 * seed1 + c1) % m1\n",
    "            seed2 = (a2 * seed2 + c2) % m2\n",
    "            seed3=(seed1-seed2)% m1\n",
    "            \n",
    "            if seed3 > 0:\n",
    "                temp_list.append(seed3 / m1)\n",
    "            elif seed3 <0:\n",
    "                temp_list.append((seed3 / m1)+1)\n",
    "            else:\n",
    "                temp_list.append((m1-1)/m1)\n",
    "\n",
    "        combined_master_list.append(temp_list)\n",
    "        \n",
    "        \n",
    "##Checks\n",
    "print('Sequence Length: ', len(combined_master_list))\n",
    "## tests\n",
    "print('\\nKS Test:')\n",
    "ks_test(combined_master_list)\n",
    "print('proportion of sequence failed to reject')\n",
    "print(\"ks_test(combined_master_list)/500\")\n",
    "\n",
    "print('\\nChi-Square Test')\n",
    "chisq_test(combined_master_list)\n",
    "print('proportion of sequence failed to reject')\n",
    "print(\"chisq_test(combined_master_list)/500\")\n",
    "\n",
    "print('\\nDurbin-Watson Test')\n",
    "durbin_test(combined_master_list)\n",
    "print('proportion of sequence failed to reject')\n",
    "print(\"durbin_test(combined_master_list)/500\")\n",
    "\n",
    "print('\\nLjung-Box Test')\n",
    "ljung_test(combined_master_list)\n",
    "print('proportion of sequence failed to reject')\n",
    "print(\"ljung_test(combined_master_list)/500\")"
   ]
  },
  {
   "cell_type": "code",
   "execution_count": null,
   "metadata": {},
   "outputs": [],
   "source": []
  },
  {
   "cell_type": "code",
   "execution_count": null,
   "metadata": {},
   "outputs": [],
   "source": []
  },
  {
   "cell_type": "code",
   "execution_count": null,
   "metadata": {},
   "outputs": [],
   "source": []
  },
  {
   "cell_type": "code",
   "execution_count": null,
   "metadata": {},
   "outputs": [],
   "source": []
  },
  {
   "cell_type": "code",
   "execution_count": null,
   "metadata": {},
   "outputs": [],
   "source": []
  }
 ],
 "metadata": {
  "interpreter": {
   "hash": "b89b5cfaba6639976dc87ff2fec6d58faec662063367e2c229c520fe71072417"
  },
  "kernelspec": {
   "display_name": "Python 3 (ipykernel)",
   "language": "python",
   "name": "python3"
  },
  "language_info": {
   "codemirror_mode": {
    "name": "ipython",
    "version": 3
   },
   "file_extension": ".py",
   "mimetype": "text/x-python",
   "name": "python",
   "nbconvert_exporter": "python",
   "pygments_lexer": "ipython3",
   "version": "3.9.12"
  }
 },
 "nbformat": 4,
 "nbformat_minor": 2
}
